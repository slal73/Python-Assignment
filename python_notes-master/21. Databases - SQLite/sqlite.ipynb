{
 "cells": [
  {
   "cell_type": "markdown",
   "metadata": {},
   "source": [
    "## SQLite Database"
   ]
  },
  {
   "cell_type": "code",
   "execution_count": 11,
   "metadata": {
    "ExecuteTime": {
     "end_time": "2018-09-05T14:34:44.266590Z",
     "start_time": "2018-09-05T14:34:44.257617Z"
    }
   },
   "outputs": [],
   "source": [
    "import sqlite3"
   ]
  },
  {
   "cell_type": "markdown",
   "metadata": {},
   "source": [
    "## How to connect with database in Python?"
   ]
  },
  {
   "cell_type": "markdown",
   "metadata": {},
   "source": [
    "1. Import database module<br /><br />\n",
    "<code>import sqlite3</code><br /><br />\n",
    "\n",
    "2. Establish connection between python program and db<br /><br />\n",
    "<code>con = sqlite3.connect(database)</code><br /><br />\n",
    "\n",
    "3. To execute mysql query and hold result cursor is required<br /><br />\n",
    "<code>cursor = con.cursor()</code><br /><br />\n",
    "\n",
    "4. Execute MySql query with the help of cursor object<br /><br />\n",
    "<code>cursor.execute(query)</code><br /><br />\n",
    "<code>cursor.executemany()</code><br /><br />\n",
    "\n",
    "5. fetch the result from cursor object in case of select query<br /><br />\n",
    "<code>cursor.fetchone()</code><br /><br />\n",
    "<code>cursor.fetchall()</code><br /><br />\n",
    "<code>cursor.fetchmany(n)</code><br /><br />\n",
    "\n",
    "6. commit or rollback changes based on your requirement<br /><br />\n",
    "<code>con.commit()</code><br /><br />\n",
    "<code>con.rollback()</code><br /><br />\n",
    "\n",
    "7. close the resources and disconnect database<br /><br />\n",
    "<code>cursor.close()</code><br /><br />\n",
    "<code>con.close()</code><br /><br />"
   ]
  },
  {
   "cell_type": "code",
   "execution_count": 37,
   "metadata": {
    "ExecuteTime": {
     "end_time": "2018-09-06T04:35:30.955307Z",
     "start_time": "2018-09-06T04:35:30.949322Z"
    }
   },
   "outputs": [
    {
     "name": "stdout",
     "output_type": "stream",
     "text": [
      "Opened database successfully\n"
     ]
    }
   ],
   "source": [
    "import sqlite3\n",
    "\n",
    "con = sqlite3.connect('kanav.db')\n",
    "\n",
    "print(\"Opened database successfully\")\n",
    "\n",
    "con.close()"
   ]
  },
  {
   "cell_type": "code",
   "execution_count": 26,
   "metadata": {
    "ExecuteTime": {
     "end_time": "2018-09-06T03:41:31.951256Z",
     "start_time": "2018-09-06T03:41:31.945174Z"
    }
   },
   "outputs": [
    {
     "name": "stdout",
     "output_type": "stream",
     "text": [
      "<sqlite3.Connection object at 0x026517A0>\n",
      "DONE!!\n"
     ]
    }
   ],
   "source": [
    "import sqlite3\n",
    "\n",
    "try:\n",
    "    con = sqlite3.connect('kanav.db')\n",
    "    print(con)\n",
    "    \n",
    "finally:\n",
    "    con.close()\n",
    "    print('DONE!!')"
   ]
  },
  {
   "cell_type": "markdown",
   "metadata": {},
   "source": [
    "## Creating Database Table"
   ]
  },
  {
   "cell_type": "code",
   "execution_count": 38,
   "metadata": {
    "ExecuteTime": {
     "end_time": "2018-09-06T04:50:12.071994Z",
     "start_time": "2018-09-06T04:50:11.866034Z"
    }
   },
   "outputs": [
    {
     "name": "stdout",
     "output_type": "stream",
     "text": [
      "Table created successfully!!\n",
      "DONE!!\n"
     ]
    }
   ],
   "source": [
    "import sqlite3\n",
    "\n",
    "try:\n",
    "    con = sqlite3.connect('kanav.db')\n",
    "    \n",
    "    cursor = con.cursor()\n",
    "    \n",
    "    query = 'create table employees(eno int(5) primary key, \\\n",
    "    ename varchar(10), eage int(3))'\n",
    "    \n",
    "    cursor.execute(query)\n",
    "    \n",
    "    print('Table created successfully!!')\n",
    "    con.commit()\n",
    "    \n",
    "except sqlite3.DatabaseError as e:\n",
    "    if con:\n",
    "        con.rollback()\n",
    "        print('Problem occured: ', e)\n",
    "    \n",
    "finally:\n",
    "    if cursor:\n",
    "        cursor.close()\n",
    "    if con:\n",
    "        con.close()\n",
    "    print('DONE!!')\n",
    "    \n",
    "# '''\n",
    "# query = 'create table employees1(eno int(5) primary key, \\\n",
    "#     ename varchar(10), eage int(3), eincome double(10,2), \\\n",
    "#     foreign key(eno) references employees(eno))'\n",
    "# '''"
   ]
  },
  {
   "cell_type": "markdown",
   "metadata": {},
   "source": [
    "## Adding new columns"
   ]
  },
  {
   "cell_type": "code",
   "execution_count": 39,
   "metadata": {
    "ExecuteTime": {
     "end_time": "2018-09-06T04:50:13.653707Z",
     "start_time": "2018-09-06T04:50:13.428264Z"
    }
   },
   "outputs": [
    {
     "name": "stdout",
     "output_type": "stream",
     "text": [
      "Column added Successfully!!\n",
      "DONE!!\n"
     ]
    }
   ],
   "source": [
    "import sqlite3\n",
    "\n",
    "try:\n",
    "    con = sqlite3.connect('kanav.db')\n",
    "    \n",
    "    cursor = con.cursor()\n",
    "    \n",
    "    query = 'alter table employees add column eincome double(10,2)'\n",
    "    \n",
    "    cursor.execute(query)\n",
    "    \n",
    "    print('Column added Successfully!!')\n",
    "    con.commit()\n",
    "    \n",
    "except sqlite3.DatabaseError as e:\n",
    "    if con:\n",
    "        con.rollback()\n",
    "        print('Problem occured: ', e)\n",
    "    \n",
    "finally:\n",
    "    if cursor:\n",
    "        cursor.close()\n",
    "    if con:\n",
    "        con.close()\n",
    "    print('DONE!!')"
   ]
  },
  {
   "cell_type": "markdown",
   "metadata": {},
   "source": [
    "## Insert Operation"
   ]
  },
  {
   "cell_type": "code",
   "execution_count": 40,
   "metadata": {
    "ExecuteTime": {
     "end_time": "2018-09-06T04:50:15.761693Z",
     "start_time": "2018-09-06T04:50:15.549264Z"
    }
   },
   "outputs": [
    {
     "name": "stdout",
     "output_type": "stream",
     "text": [
      "Row inserted Successfully\n",
      "DONE!!\n"
     ]
    }
   ],
   "source": [
    "import sqlite3\n",
    "\n",
    "try:\n",
    "    con = sqlite3.connect('kanav.db')\n",
    "    \n",
    "    cursor = con.cursor()\n",
    "    \n",
    "    query = \"insert into employees(eno, ename, eage, eincome) \\\n",
    "    values(1,'lmn',30,70000)\"\n",
    "    \n",
    "    cursor.execute(query)\n",
    "    \n",
    "    con.commit()\n",
    "    \n",
    "    print('Row inserted Successfully')\n",
    "    \n",
    "except sqlite3.DatabaseError as e:\n",
    "    if con:\n",
    "        con.rollback()\n",
    "        print('Problem occured: ', e)\n",
    "    \n",
    "finally:\n",
    "    if cursor:\n",
    "        cursor.close()\n",
    "    if con:\n",
    "        con.close()\n",
    "    print('DONE!!')"
   ]
  },
  {
   "cell_type": "code",
   "execution_count": 42,
   "metadata": {
    "ExecuteTime": {
     "end_time": "2018-09-06T04:57:18.249821Z",
     "start_time": "2018-09-06T04:57:18.049364Z"
    }
   },
   "outputs": [
    {
     "name": "stdout",
     "output_type": "stream",
     "text": [
      "DONE!!\n"
     ]
    }
   ],
   "source": [
    "import sqlite3\n",
    "\n",
    "try:\n",
    "    con = sqlite3.connect('kanav.db')\n",
    "    \n",
    "    cursor = con.cursor()\n",
    "    \n",
    "    query = \"insert into employees(eno, ename, eage, eincome) \\\n",
    "    values(?,?,?,?)\"\n",
    "    \n",
    "    records = [(3, 'xyz', 33, 40000),(4, 'abc', 23, 23000)]\n",
    "    \n",
    "    cursor.executemany(query, records)\n",
    "    \n",
    "    con.commit()\n",
    "    \n",
    "except sqlite3.DatabaseError as e:\n",
    "    if con:\n",
    "        con.rollback()\n",
    "        print('Problem occured: ', e)\n",
    "    \n",
    "finally:\n",
    "    if cursor:\n",
    "        cursor.close()\n",
    "    if con:\n",
    "        con.close()\n",
    "    print('DONE!!')"
   ]
  },
  {
   "cell_type": "markdown",
   "metadata": {},
   "source": [
    "## Read Operation"
   ]
  },
  {
   "cell_type": "code",
   "execution_count": 49,
   "metadata": {
    "ExecuteTime": {
     "end_time": "2018-09-06T05:35:55.277742Z",
     "start_time": "2018-09-06T05:35:55.267745Z"
    }
   },
   "outputs": [
    {
     "name": "stdout",
     "output_type": "stream",
     "text": [
      "Eno: 3, Ename: xyz, Eage: 33, Esal: 40000.0\n",
      "Eno: 4, Ename: abc, Eage: 23, Esal: 23000.0\n",
      "DONE!!\n"
     ]
    }
   ],
   "source": [
    "import sqlite3\n",
    "\n",
    "try:\n",
    "    con = sqlite3.connect('kanav.db')\n",
    "    \n",
    "    cursor = con.cursor()\n",
    "    \n",
    "    query = 'select * from employees'\n",
    "    \n",
    "    cursor.execute(query)\n",
    "    \n",
    "    data = cursor.fetchall()\n",
    "    \n",
    "    for row in data:\n",
    "        print('Eno: {}, Ename: {}, Eage: {}, Esal: {}'\\\n",
    "             .format(row[0], row[1], row[2], row[3]))\n",
    "    \n",
    "except sqlite3.DatabaseError as e:\n",
    "    if con:\n",
    "        con.rollback()\n",
    "        print('Problem occured: ', e)\n",
    "    \n",
    "finally:\n",
    "    if cursor:\n",
    "        cursor.close()\n",
    "    if con:\n",
    "        con.close()\n",
    "    print('DONE!!')"
   ]
  },
  {
   "cell_type": "markdown",
   "metadata": {},
   "source": [
    "## Update Operation"
   ]
  },
  {
   "cell_type": "code",
   "execution_count": 46,
   "metadata": {
    "ExecuteTime": {
     "end_time": "2018-09-06T05:34:47.856180Z",
     "start_time": "2018-09-06T05:34:47.650045Z"
    }
   },
   "outputs": [
    {
     "name": "stdout",
     "output_type": "stream",
     "text": [
      "DONE!!\n"
     ]
    }
   ],
   "source": [
    "import sqlite3\n",
    "\n",
    "try:\n",
    "    con = sqlite3.connect('kanav.db')\n",
    "    \n",
    "    cursor = con.cursor()\n",
    "    \n",
    "    query = \"update employees set eage=eage+1 where ename = 'lmn'\"\n",
    "    \n",
    "    cursor.execute(query)\n",
    "    \n",
    "    con.commit()\n",
    "    \n",
    "except sqlite3.DatabaseError as e:\n",
    "    if con:\n",
    "        con.rollback()\n",
    "        print('Problem occured: ', e)\n",
    "    \n",
    "finally:\n",
    "    if cursor:\n",
    "        cursor.close()\n",
    "    if con:\n",
    "        con.close()\n",
    "    print('DONE!!')"
   ]
  },
  {
   "cell_type": "markdown",
   "metadata": {},
   "source": [
    "## Delete Operation"
   ]
  },
  {
   "cell_type": "code",
   "execution_count": 48,
   "metadata": {
    "ExecuteTime": {
     "end_time": "2018-09-06T05:35:44.035123Z",
     "start_time": "2018-09-06T05:35:34.052718Z"
    }
   },
   "outputs": [
    {
     "name": "stdout",
     "output_type": "stream",
     "text": [
      "Enter age: 31\n",
      "DONE!!\n"
     ]
    }
   ],
   "source": [
    "import sqlite3\n",
    "\n",
    "try:\n",
    "    con = sqlite3.connect('kanav.db')\n",
    "    \n",
    "    cursor = con.cursor()\n",
    "    \n",
    "    age = input('Enter age: ')\n",
    "    \n",
    "    query = \"delete from employees where eage={}\".format(age)\n",
    "    \n",
    "    cursor.execute(query)\n",
    "    \n",
    "    con.commit()\n",
    "    \n",
    "except sqlite3.DatabaseError as e:\n",
    "    if con:\n",
    "        con.rollback()\n",
    "        print('Problem occured: ', e)\n",
    "    \n",
    "finally:\n",
    "    if cursor:\n",
    "        cursor.close()\n",
    "    if con:\n",
    "        con.close()\n",
    "    print('DONE!!')"
   ]
  },
  {
   "cell_type": "code",
   "execution_count": null,
   "metadata": {},
   "outputs": [],
   "source": []
  }
 ],
 "metadata": {
  "kernelspec": {
   "display_name": "Python 3",
   "language": "python",
   "name": "python3"
  },
  "language_info": {
   "codemirror_mode": {
    "name": "ipython",
    "version": 3
   },
   "file_extension": ".py",
   "mimetype": "text/x-python",
   "name": "python",
   "nbconvert_exporter": "python",
   "pygments_lexer": "ipython3",
   "version": "3.6.5"
  },
  "toc": {
   "nav_menu": {},
   "number_sections": true,
   "sideBar": true,
   "skip_h1_title": false,
   "title_cell": "Table of Contents",
   "title_sidebar": "Contents",
   "toc_cell": false,
   "toc_position": {},
   "toc_section_display": true,
   "toc_window_display": false
  },
  "varInspector": {
   "cols": {
    "lenName": 16,
    "lenType": 16,
    "lenVar": 40
   },
   "kernels_config": {
    "python": {
     "delete_cmd_postfix": "",
     "delete_cmd_prefix": "del ",
     "library": "var_list.py",
     "varRefreshCmd": "print(var_dic_list())"
    },
    "r": {
     "delete_cmd_postfix": ") ",
     "delete_cmd_prefix": "rm(",
     "library": "var_list.r",
     "varRefreshCmd": "cat(var_dic_list()) "
    }
   },
   "types_to_exclude": [
    "module",
    "function",
    "builtin_function_or_method",
    "instance",
    "_Feature"
   ],
   "window_display": false
  }
 },
 "nbformat": 4,
 "nbformat_minor": 2
}
