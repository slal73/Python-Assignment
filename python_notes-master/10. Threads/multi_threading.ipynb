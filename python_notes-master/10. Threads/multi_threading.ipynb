{
 "cells": [
  {
   "cell_type": "markdown",
   "metadata": {},
   "source": [
    "## Threading"
   ]
  },
  {
   "cell_type": "code",
   "execution_count": 1,
   "metadata": {
    "ExecuteTime": {
     "end_time": "2018-06-04T04:45:09.916660Z",
     "start_time": "2018-06-04T04:45:09.911647Z"
    },
    "scrolled": true
   },
   "outputs": [
    {
     "name": "stdout",
     "output_type": "stream",
     "text": [
      "Current executing Thread:  <_MainThread(MainThread, started 10348)>\n",
      "Name of the Thread  MainThread\n",
      "Identification Number:  10348\n"
     ]
    }
   ],
   "source": [
    "import threading\n",
    "\n",
    "print('Current executing Thread: ', threading.current_thread())\n",
    "\n",
    "print('Name of the Thread ', threading.current_thread().getName())\n",
    "\n",
    "print('Identification Number: ', threading.current_thread().ident)\n",
    "\n",
    "# current_thread() returns current thread object\n",
    "# We can see the name of current thread object using getName() method"
   ]
  },
  {
   "cell_type": "code",
   "execution_count": 2,
   "metadata": {
    "ExecuteTime": {
     "end_time": "2018-06-04T04:48:25.889553Z",
     "start_time": "2018-06-04T04:48:25.884537Z"
    }
   },
   "outputs": [
    {
     "name": "stdout",
     "output_type": "stream",
     "text": [
      "Current executing Thread:  MainThread\n",
      "Current executing Thread:  my_thread\n"
     ]
    }
   ],
   "source": [
    "from threading import *\n",
    "\n",
    "print('Current executing Thread: ', current_thread().getName())\n",
    "\n",
    "current_thread().setName('my_thread')\n",
    "\n",
    "print('Current executing Thread: ', current_thread().getName())\n"
   ]
  },
  {
   "cell_type": "markdown",
   "metadata": {},
   "source": [
    "## Creating the Thread (Functional Programming way)"
   ]
  },
  {
   "cell_type": "code",
   "execution_count": 3,
   "metadata": {
    "ExecuteTime": {
     "end_time": "2018-06-04T04:54:56.229836Z",
     "start_time": "2018-06-04T04:54:56.213773Z"
    }
   },
   "outputs": [
    {
     "name": "stdout",
     "output_type": "stream",
     "text": [
      "Child executing thread: Main executing thread:  Thread-6\n",
      " my_thread\n"
     ]
    }
   ],
   "source": [
    "from threading import *\n",
    "\n",
    "def display():\n",
    "    print('Child executing thread: ', current_thread().getName())\n",
    "    \n",
    "# Lets execute display() as seperate thread\n",
    "\n",
    "t = Thread(target = display)\n",
    "# MainThread creates child thread object\n",
    "\n",
    "t.start()\n",
    "\n",
    "print('Main executing thread: ', current_thread().getName())"
   ]
  },
  {
   "cell_type": "code",
   "execution_count": 4,
   "metadata": {
    "ExecuteTime": {
     "end_time": "2018-06-04T05:00:18.304785Z",
     "start_time": "2018-06-04T05:00:18.293757Z"
    },
    "scrolled": false
   },
   "outputs": [
    {
     "name": "stdout",
     "output_type": "stream",
     "text": [
      "Child ThreadMain Thread\n",
      "Main Thread\n",
      "Main Thread\n",
      "Main Thread\n",
      "Main Thread\n",
      "Main Thread\n",
      "Main Thread\n",
      "Main Thread\n",
      "Main Thread\n",
      "Main Thread\n",
      "\n",
      "Child Thread\n",
      "Child Thread\n",
      "Child Thread\n",
      "Child Thread\n",
      "Child Thread\n",
      "Child Thread\n",
      "Child Thread\n",
      "Child Thread\n",
      "Child Thread\n"
     ]
    }
   ],
   "source": [
    "from threading import *\n",
    "\n",
    "def display():\n",
    "    for i in range(10):\n",
    "        print('Child Thread')\n",
    "        \n",
    "t = Thread(target = display)\n",
    "\n",
    "t.start()\n",
    "\n",
    "for i in range(10):\n",
    "    print('Main Thread')"
   ]
  },
  {
   "cell_type": "markdown",
   "metadata": {},
   "source": [
    "## Creating the Thread (OOP way)"
   ]
  },
  {
   "cell_type": "code",
   "execution_count": 5,
   "metadata": {
    "ExecuteTime": {
     "end_time": "2018-06-04T05:10:08.516969Z",
     "start_time": "2018-06-04T05:10:08.501930Z"
    }
   },
   "outputs": [
    {
     "name": "stdout",
     "output_type": "stream",
     "text": [
      "Child executing thread: Main executing thread:  my_thread\n",
      " Thread-8\n"
     ]
    }
   ],
   "source": [
    "from threading import *\n",
    "\n",
    "class MyThread(Thread):\n",
    "    def run(self):\n",
    "        print('Child executing thread: ', current_thread().getName())\n",
    "            \n",
    "# Lets execute display() as seperate thread\n",
    "\n",
    "t = MyThread()\n",
    "# MainThread creates child thread object\n",
    "\n",
    "t.start()\n",
    "\n",
    "print('Main executing thread: ', current_thread().getName())"
   ]
  },
  {
   "cell_type": "code",
   "execution_count": 25,
   "metadata": {
    "ExecuteTime": {
     "end_time": "2018-06-02T12:20:47.908265Z",
     "start_time": "2018-06-02T12:20:47.898226Z"
    },
    "scrolled": false
   },
   "outputs": [
    {
     "name": "stdout",
     "output_type": "stream",
     "text": [
      "Child Thread\n",
      "Child Thread\n",
      "Child Thread\n",
      "Child Thread\n",
      "Child Thread\n",
      "Child Thread\n",
      "Child Thread\n",
      "Child ThreadMain Thread\n",
      "Main Thread\n",
      "Main Thread\n",
      "Main Thread\n",
      "Main Thread\n",
      "Main Thread\n",
      "Main Thread\n",
      "Main Thread\n",
      "Main Thread\n",
      "Main Thread\n",
      "\n",
      "Child Thread\n",
      "Child Thread\n"
     ]
    }
   ],
   "source": [
    "from threading import *\n",
    "\n",
    "class MyThread(Thread):\n",
    "    def run(self):\n",
    "        for i in range(10):\n",
    "            print('Child Thread')\n",
    "        \n",
    "t = MyThread()\n",
    "\n",
    "t.start()\n",
    "\n",
    "for i in range(10):\n",
    "    print('Main Thread')"
   ]
  },
  {
   "cell_type": "markdown",
   "metadata": {},
   "source": [
    "## threading Module"
   ]
  },
  {
   "cell_type": "code",
   "execution_count": 8,
   "metadata": {
    "ExecuteTime": {
     "end_time": "2018-06-04T02:57:54.006731Z",
     "start_time": "2018-06-04T02:57:48.967065Z"
    },
    "scrolled": true
   },
   "outputs": [
    {
     "name": "stdout",
     "output_type": "stream",
     "text": [
      "Active Threads:  5\n",
      "Starting Starting 1st Thread\n",
      "2nd Thread\n",
      "StartingActive Threads:  3rd Thread\n",
      " 8\n",
      "EndingEndingEnding 2nd Thread\n",
      " 3rd Thread\n",
      " 1st Thread\n",
      "Active Threads:  5\n"
     ]
    }
   ],
   "source": [
    "# current_thread()\n",
    "\n",
    "# getName()\n",
    "\n",
    "# setName()\n",
    "\n",
    "# start()\n",
    "\n",
    "# run()\n",
    "\n",
    "# activeCount()\n",
    "\n",
    "# enumerate() -> returns the list of all active threads currently running\n",
    "\n",
    "# isAlive() -> used to check whether a thread is still executing\n",
    "\n",
    "# join()\n",
    "\n",
    "from threading import *\n",
    "import time\n",
    "\n",
    "def display():\n",
    "    print('Starting', current_thread().getName())\n",
    "    time.sleep(3)\n",
    "    print('Ending', current_thread().getName())\n",
    "\n",
    "print('Active Threads: ', active_count())\n",
    "\n",
    "t1 = Thread(target = display, name = '1st Thread')\n",
    "\n",
    "t2 = Thread(target = display, name = '2nd Thread')\n",
    "\n",
    "t3 = Thread(target = display, name = '3rd Thread')\n",
    "\n",
    "t1.start()\n",
    "\n",
    "t2.start()\n",
    "\n",
    "t3.start()\n",
    "\n",
    "print(t1.name, 'is', t1.isAlive())\n",
    "\n",
    "enum = enumerate()\n",
    "\n",
    "for t in enum:\n",
    "    print('Thread Name from enum', t.name)\n",
    "\n",
    "print('Active Threads: ', active_count())\n",
    "\n",
    "time.sleep(5)\n",
    "\n",
    "print('Active Threads: ', active_count())\n",
    "\n",
    "print(t1.name, 'is', t1.isAlive())"
   ]
  },
  {
   "cell_type": "markdown",
   "metadata": {},
   "source": [
    "## Without Multi-threading"
   ]
  },
  {
   "cell_type": "code",
   "execution_count": 6,
   "metadata": {
    "ExecuteTime": {
     "end_time": "2018-06-04T05:44:12.675416Z",
     "start_time": "2018-06-04T05:44:00.659361Z"
    },
    "scrolled": true
   },
   "outputs": [
    {
     "name": "stdout",
     "output_type": "stream",
     "text": [
      "Double:  2\n",
      "Double:  4\n",
      "Double:  6\n",
      "Double:  8\n",
      "Double:  10\n",
      "Double:  12\n",
      "Square:  1\n",
      "Square:  4\n",
      "Square:  9\n",
      "Square:  16\n",
      "Square:  25\n",
      "Square:  36\n",
      "Time taken:  12.008029460906982\n"
     ]
    }
   ],
   "source": [
    "import time\n",
    "\n",
    "def double(num):\n",
    "    for n in num:\n",
    "        time.sleep(1)\n",
    "        print('Double: ', 2*n)\n",
    "        \n",
    "def square(num):\n",
    "    for n in num:\n",
    "        time.sleep(1)\n",
    "        print('Square: ', n*n)\n",
    "        \n",
    "num = [1, 2, 3, 4, 5, 6]\n",
    "\n",
    "begintime = time.time()\n",
    "\n",
    "double(num)\n",
    "\n",
    "square(num)\n",
    "\n",
    "endtime = time.time()\n",
    "print('Time taken: ', endtime - begintime)"
   ]
  },
  {
   "cell_type": "markdown",
   "metadata": {},
   "source": [
    "## With Multi-threading"
   ]
  },
  {
   "cell_type": "code",
   "execution_count": 7,
   "metadata": {
    "ExecuteTime": {
     "end_time": "2018-06-04T05:46:29.578025Z",
     "start_time": "2018-06-04T05:46:23.560687Z"
    },
    "scrolled": true
   },
   "outputs": [
    {
     "name": "stdout",
     "output_type": "stream",
     "text": [
      "Double: Square:  1\n",
      " 2\n",
      "Square: Double:  4\n",
      " 4\n",
      "Double:  6\n",
      "Square:  9\n",
      "Double:  8Square: \n",
      " 16\n",
      "Double:  10\n",
      "Square:  25\n",
      "Double:  12\n",
      "Square:  36\n",
      "Time taken:  6.010820150375366\n"
     ]
    }
   ],
   "source": [
    "from threading import *\n",
    "import time\n",
    "\n",
    "def double(num):\n",
    "    for n in num:\n",
    "        time.sleep(1)\n",
    "        print('Double: ', 2*n)\n",
    "def square(num):\n",
    "    for n in num:\n",
    "        time.sleep(1)\n",
    "        print('Square: ', n*n)\n",
    "    \n",
    "num = [1, 2, 3, 4, 5, 6]\n",
    "\n",
    "begintime = time.time()\n",
    "\n",
    "# double(num)\n",
    "t1 = Thread(target = double, args = (num,))\n",
    "\n",
    "# square(num)\n",
    "t2 = Thread(target = square, args = (num,))\n",
    "\n",
    "t1.start()\n",
    "t2.start()\n",
    "\n",
    "t1.join()\n",
    "t2.join()\n",
    "\n",
    "endtime = time.time()\n",
    "print('Time taken: ', endtime - begintime)"
   ]
  },
  {
   "cell_type": "markdown",
   "metadata": {},
   "source": [
    "## Synchronization"
   ]
  },
  {
   "cell_type": "code",
   "execution_count": 8,
   "metadata": {
    "ExecuteTime": {
     "end_time": "2018-06-04T05:47:59.042609Z",
     "start_time": "2018-06-04T05:47:54.005307Z"
    }
   },
   "outputs": [
    {
     "name": "stdout",
     "output_type": "stream",
     "text": [
      "Good Morning:  Good Morning:  Good Morning: Good Morning:   abc\n",
      "xyz\n",
      "pqrlmn\n",
      "\n"
     ]
    }
   ],
   "source": [
    "from threading import *\n",
    "import time\n",
    "\n",
    "def greet(name):\n",
    "    print('Good Morning: ', end = ' ')\n",
    "    time.sleep(1)\n",
    "    print(name)\n",
    "        \n",
    "        \n",
    "t1 = Thread(target = greet, args=('abc',))\n",
    "\n",
    "t2 = Thread(target = greet, args=('xyz',))\n",
    "\n",
    "t3 = Thread(target = greet, args=('lmn',))\n",
    "\n",
    "t4 = Thread(target = greet, args=('pqr',))\n",
    "\n",
    "t1.start()\n",
    "\n",
    "\n",
    "t2.start()\n",
    "\n",
    "t3.start()\n",
    "\n",
    "t4.start()\n",
    "\n",
    "time.sleep(5)"
   ]
  },
  {
   "cell_type": "code",
   "execution_count": 9,
   "metadata": {
    "ExecuteTime": {
     "end_time": "2018-06-04T05:50:07.357106Z",
     "start_time": "2018-06-04T05:50:02.331625Z"
    }
   },
   "outputs": [
    {
     "name": "stdout",
     "output_type": "stream",
     "text": [
      "Good Morning:  abc\n",
      "Good Morning:  xyz\n",
      "Good Morning:  lmn\n",
      "Good Morning:  pqr\n"
     ]
    }
   ],
   "source": [
    "from threading import *\n",
    "import time\n",
    "\n",
    "l = Lock()\n",
    "\n",
    "def greet(name):\n",
    "    l.acquire()     \n",
    "    print('Good Morning: ', end = ' ')\n",
    "    time.sleep(1)\n",
    "    print(name)\n",
    "    l.release() \n",
    "        \n",
    "t1 = Thread(target = greet, args=('abc',))\n",
    "\n",
    "t2 = Thread(target = greet, args=('xyz',))\n",
    "\n",
    "t3 = Thread(target = greet, args=('lmn',))\n",
    "\n",
    "t4 = Thread(target = greet, args=('pqr',))\n",
    "\n",
    "t1.start()\n",
    "\n",
    "t2.start()\n",
    "\n",
    "t3.start()\n",
    "\n",
    "t4.start()\n",
    "\n",
    "time.sleep(5)"
   ]
  },
  {
   "cell_type": "code",
   "execution_count": null,
   "metadata": {},
   "outputs": [],
   "source": []
  }
 ],
 "metadata": {
  "kernelspec": {
   "display_name": "Python 3",
   "language": "python",
   "name": "python3"
  },
  "language_info": {
   "codemirror_mode": {
    "name": "ipython",
    "version": 3
   },
   "file_extension": ".py",
   "mimetype": "text/x-python",
   "name": "python",
   "nbconvert_exporter": "python",
   "pygments_lexer": "ipython3",
   "version": "3.6.5"
  },
  "toc": {
   "nav_menu": {},
   "number_sections": true,
   "sideBar": true,
   "skip_h1_title": false,
   "title_cell": "Table of Contents",
   "title_sidebar": "Contents",
   "toc_cell": false,
   "toc_position": {},
   "toc_section_display": true,
   "toc_window_display": false
  },
  "varInspector": {
   "cols": {
    "lenName": 16,
    "lenType": 16,
    "lenVar": 40
   },
   "kernels_config": {
    "python": {
     "delete_cmd_postfix": "",
     "delete_cmd_prefix": "del ",
     "library": "var_list.py",
     "varRefreshCmd": "print(var_dic_list())"
    },
    "r": {
     "delete_cmd_postfix": ") ",
     "delete_cmd_prefix": "rm(",
     "library": "var_list.r",
     "varRefreshCmd": "cat(var_dic_list()) "
    }
   },
   "types_to_exclude": [
    "module",
    "function",
    "builtin_function_or_method",
    "instance",
    "_Feature"
   ],
   "window_display": false
  }
 },
 "nbformat": 4,
 "nbformat_minor": 2
}
